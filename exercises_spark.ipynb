{
 "cells": [
  {
   "cell_type": "code",
   "execution_count": 1,
   "metadata": {},
   "outputs": [],
   "source": [
    "import findspark\n",
    "findspark.init()"
   ]
  },
  {
   "cell_type": "code",
   "execution_count": 2,
   "metadata": {},
   "outputs": [],
   "source": [
    "import pyspark"
   ]
  },
  {
   "cell_type": "code",
   "execution_count": 3,
   "metadata": {},
   "outputs": [],
   "source": [
    "sc = pyspark.SparkContext(appName = \"Test\")"
   ]
  },
  {
   "cell_type": "code",
   "execution_count": 4,
   "metadata": {},
   "outputs": [],
   "source": [
    "# Spark interface http://localhost:4043"
   ]
  },
  {
   "cell_type": "markdown",
   "metadata": {},
   "source": [
    "## Pair RDDs"
   ]
  },
  {
   "cell_type": "markdown",
   "metadata": {},
   "source": [
    "**1. Number of user requests**"
   ]
  },
  {
   "cell_type": "code",
   "execution_count": 47,
   "metadata": {},
   "outputs": [
    {
     "data": {
      "text/plain": [
       "['116.180.70.237 - 128 [15/Sep/2013:23:59:53 +0100] \"GET /KBDOC-00031.html HTTP/1.0\" 200 1388 \"http://www.loudacre.com\"  \"Loudacre CSR Browser\"',\n",
       " '116.180.70.237 - 128 [15/Sep/2013:23:59:53 +0100] \"GET /theme.css HTTP/1.0\" 200 5531 \"http://www.loudacre.com\"  \"Loudacre CSR Browser\"',\n",
       " '218.193.16.244 - 94 [15/Sep/2013:23:58:45 +0100] \"GET /KBDOC-00273.html HTTP/1.0\" 200 5325 \"http://www.loudacre.com\"  \"Loudacre CSR Browser\"',\n",
       " '218.193.16.244 - 94 [15/Sep/2013:23:58:45 +0100] \"GET /theme.css HTTP/1.0\" 200 9463 \"http://www.loudacre.com\"  \"Loudacre CSR Browser\"',\n",
       " '198.122.118.164 - 131 [15/Sep/2013:23:58:02 +0100] \"GET /KBDOC-00117.html HTTP/1.0\" 200 15818 \"http://www.loudacre.com\"  \"Loudacre CSR Browser\"']"
      ]
     },
     "execution_count": 47,
     "metadata": {},
     "output_type": "execute_result"
    }
   ],
   "source": [
    "logs = sc.textFile(\"file:/home/bego/Documents/curso_spark/datasets/weblogs/*\")\n",
    "logs.take(5)"
   ]
  },
  {
   "cell_type": "code",
   "execution_count": 6,
   "metadata": {},
   "outputs": [
    {
     "data": {
      "text/plain": [
       "[('128', 1), ('128', 1), ('94', 1), ('94', 1), ('131', 1)]"
      ]
     },
     "execution_count": 6,
     "metadata": {},
     "output_type": "execute_result"
    }
   ],
   "source": [
    "userreqs = logs.map(lambda x: (x.split(\" \")[2], 1))\n",
    "userreqs.take(5)"
   ]
  },
  {
   "cell_type": "code",
   "execution_count": 7,
   "metadata": {},
   "outputs": [
    {
     "data": {
      "text/plain": [
       "[('1', 528),\n",
       " ('10', 472),\n",
       " ('100', 540),\n",
       " ('10000', 2),\n",
       " ('100000', 2),\n",
       " ('100003', 14),\n",
       " ('100004', 16),\n",
       " ('100008', 6),\n",
       " ('100009', 4),\n",
       " ('100012', 20),\n",
       " ('100019', 20),\n",
       " ('100022', 10),\n",
       " ('100035', 2),\n",
       " ('100038', 6),\n",
       " ('100048', 14),\n",
       " ('100053', 12),\n",
       " ('100058', 2),\n",
       " ('100062', 8),\n",
       " ('100079', 8),\n",
       " ('100081', 14)]"
      ]
     },
     "execution_count": 7,
     "metadata": {},
     "output_type": "execute_result"
    }
   ],
   "source": [
    "reqs_per_user = userreqs.reduceByKey(lambda accum, n: accum + n).sortByKey()\n",
    "reqs_per_user.take(20)"
   ]
  },
  {
   "cell_type": "markdown",
   "metadata": {},
   "source": [
    "**2. Top 10 users by number of hits**"
   ]
  },
  {
   "cell_type": "code",
   "execution_count": 8,
   "metadata": {},
   "outputs": [
    {
     "data": {
      "text/plain": [
       "[(667, '193'), (636, '13'), (620, '24'), (610, '147'), (606, '110')]"
      ]
     },
     "execution_count": 8,
     "metadata": {},
     "output_type": "execute_result"
    }
   ],
   "source": [
    "top_10_hits = reqs_per_user.map(lambda x: (x[1], x[0])).sortByKey(False)\n",
    "top_10_hits.take(5)"
   ]
  },
  {
   "cell_type": "markdown",
   "metadata": {},
   "source": [
    "**3. UserID-Address RDD**"
   ]
  },
  {
   "cell_type": "code",
   "execution_count": 9,
   "metadata": {},
   "outputs": [
    {
     "data": {
      "text/plain": [
       "[('54126',\n",
       "  ['176.80.85.20',\n",
       "   '176.80.85.20',\n",
       "   '220.61.164.139',\n",
       "   '220.61.164.139',\n",
       "   '224.190.37.8',\n",
       "   '224.190.37.8',\n",
       "   '17.171.169.4',\n",
       "   '17.171.169.4',\n",
       "   '17.171.169.4',\n",
       "   '17.171.169.4',\n",
       "   '191.88.233.113',\n",
       "   '191.88.233.113',\n",
       "   '191.88.233.113',\n",
       "   '191.88.233.113',\n",
       "   '211.209.98.155',\n",
       "   '211.209.98.155',\n",
       "   '75.13.247.212',\n",
       "   '75.13.247.212',\n",
       "   '161.94.252.10',\n",
       "   '161.94.252.10',\n",
       "   '69.103.100.120',\n",
       "   '69.103.100.120',\n",
       "   '216.249.102.215',\n",
       "   '216.249.102.215',\n",
       "   '244.131.187.64',\n",
       "   '244.131.187.64',\n",
       "   '104.14.31.172',\n",
       "   '104.14.31.172',\n",
       "   '189.97.51.33',\n",
       "   '189.97.51.33',\n",
       "   '31.252.214.103',\n",
       "   '31.252.214.103'])]"
      ]
     },
     "execution_count": 9,
     "metadata": {},
     "output_type": "execute_result"
    }
   ],
   "source": [
    "addresses_user = logs.map(lambda x: (x.split(\" \")[2], x.split(\" \")[0])).groupByKey().map(lambda x: (x[0], list(x[1])))\n",
    "addresses_user.take(1)"
   ]
  },
  {
   "cell_type": "markdown",
   "metadata": {},
   "source": [
    "**4.1 Map account data to (userid,[values....])**"
   ]
  },
  {
   "cell_type": "code",
   "execution_count": 10,
   "metadata": {},
   "outputs": [
    {
     "data": {
      "text/plain": [
       "['1,2008-12-31 15:05:45,2013-12-29 09:53:35,Donald,Becton,2275 Washburn Street,Oakland,CA,94656,5104529635,2013-12-27 15:01:36,2013-12-27 15:01:36']"
      ]
     },
     "execution_count": 10,
     "metadata": {},
     "output_type": "execute_result"
    }
   ],
   "source": [
    "accounts = sc.textFile(\"file:/home/bego/Documents/curso_spark/datasets/accounts.csv\")\n",
    "accounts.take(1)"
   ]
  },
  {
   "cell_type": "code",
   "execution_count": 11,
   "metadata": {},
   "outputs": [
    {
     "data": {
      "text/plain": [
       "[('1',\n",
       "  ['1',\n",
       "   '2008-12-31 15:05:45',\n",
       "   '2013-12-29 09:53:35',\n",
       "   'Donald',\n",
       "   'Becton',\n",
       "   '2275 Washburn Street',\n",
       "   'Oakland',\n",
       "   'CA',\n",
       "   '94656',\n",
       "   '5104529635',\n",
       "   '2013-12-27 15:01:36',\n",
       "   '2013-12-27 15:01:36'])]"
      ]
     },
     "execution_count": 11,
     "metadata": {},
     "output_type": "execute_result"
    }
   ],
   "source": [
    "#accounts_id = accounts.keyBy(lambda x: x[0])\n",
    "accounts_id = accounts.map(lambda x: (x.split(\",\")[0], list(x.split(\",\")))).sortByKey() #groupByKey().map(lambda x: (x[0], list(x[1])))\n",
    "accounts_id.take(1)"
   ]
  },
  {
   "cell_type": "markdown",
   "metadata": {},
   "source": [
    "**4.2 Join account data with userreqs then merge hit count into valuelist**"
   ]
  },
  {
   "cell_type": "code",
   "execution_count": 12,
   "metadata": {},
   "outputs": [
    {
     "data": {
      "text/plain": [
       "[('1',\n",
       "  (['1',\n",
       "    '2008-12-31 15:05:45',\n",
       "    '2013-12-29 09:53:35',\n",
       "    'Donald',\n",
       "    'Becton',\n",
       "    '2275 Washburn Street',\n",
       "    'Oakland',\n",
       "    'CA',\n",
       "    '94656',\n",
       "    '5104529635',\n",
       "    '2013-12-27 15:01:36',\n",
       "    '2013-12-27 15:01:36'],\n",
       "   528)),\n",
       " ('10',\n",
       "  (['10',\n",
       "    '2008-11-07 21:04:07',\n",
       "    '2013-06-24 06:16:28',\n",
       "    'Diane',\n",
       "    'Nelson',\n",
       "    '921 Sardis Sta',\n",
       "    'Santa Rosa',\n",
       "    'CA',\n",
       "    '94966',\n",
       "    '7072839759',\n",
       "    '2013-12-27 15:01:36',\n",
       "    '2013-12-27 15:01:36'],\n",
       "   472))]"
      ]
     },
     "execution_count": 12,
     "metadata": {},
     "output_type": "execute_result"
    }
   ],
   "source": [
    "all_data = accounts_id.join(reqs_per_user).sortByKey()\n",
    "all_data.take(2)"
   ]
  },
  {
   "cell_type": "markdown",
   "metadata": {},
   "source": [
    "**4.3 Show fields**"
   ]
  },
  {
   "cell_type": "code",
   "execution_count": 13,
   "metadata": {},
   "outputs": [
    {
     "name": "stdout",
     "output_type": "stream",
     "text": [
      "1 528 Donald Becton\n",
      "10 472 Diane Nelson\n",
      "100 540 Manuel Cerrato\n",
      "10000 2 Teresa French\n",
      "100000 2 Hope Smith\n"
     ]
    }
   ],
   "source": [
    "for userid, (values, count) in all_data.take(5):\n",
    "    print(userid, count, values[3], values[4])"
   ]
  },
  {
   "cell_type": "markdown",
   "metadata": {},
   "source": [
    "**Bonus.1 People per postal code**"
   ]
  },
  {
   "cell_type": "code",
   "execution_count": 14,
   "metadata": {},
   "outputs": [
    {
     "data": {
      "text/plain": [
       "[('94656',\n",
       "  '1,2008-12-31 15:05:45,2013-12-29 09:53:35,Donald,Becton,2275 Washburn Street,Oakland,CA,94656,5104529635,2013-12-27 15:01:36,2013-12-27 15:01:36')]"
      ]
     },
     "execution_count": 14,
     "metadata": {},
     "output_type": "execute_result"
    }
   ],
   "source": [
    "accounts_pc = accounts.keyBy(lambda x: x.split(\",\")[8])\n",
    "accounts_pc.take(1)"
   ]
  },
  {
   "cell_type": "code",
   "execution_count": 15,
   "metadata": {},
   "outputs": [
    {
     "data": {
      "text/plain": [
       "[('85000',\n",
       "  [('Willson', 'Leon'),\n",
       "   ('Clark', 'Ronald'),\n",
       "   ('Rush', 'Juanita'),\n",
       "   ('Woodhouse', 'Roger'),\n",
       "   ('Baptist', 'Colin'),\n",
       "   ('King', 'Percy'),\n",
       "   ('Carmack', 'David'),\n",
       "   ('Milan', 'Ana'),\n",
       "   ('McCurdy', 'Kendra'),\n",
       "   ('Pitts', 'Robert'),\n",
       "   ('Hopkins', 'Leslie'),\n",
       "   ('Butler', 'Paul'),\n",
       "   ('Barth', 'Phyllis')])]"
      ]
     },
     "execution_count": 15,
     "metadata": {},
     "output_type": "execute_result"
    }
   ],
   "source": [
    "pc_names = accounts_pc.map(lambda x: (x[0], (x[1].split(\",\")[4],x[1].split(\",\")[3]))).groupByKey().map(lambda x: (x[0], list(x[1]))).sortByKey()\n",
    "# can also use mapValues\n",
    "pc_names.take(1)"
   ]
  },
  {
   "cell_type": "code",
   "execution_count": 16,
   "metadata": {},
   "outputs": [
    {
     "name": "stdout",
     "output_type": "stream",
     "text": [
      "---85000\n",
      "Willson,Leon\n",
      "Clark,Ronald\n",
      "Rush,Juanita\n",
      "Woodhouse,Roger\n",
      "Baptist,Colin\n",
      "King,Percy\n",
      "Carmack,David\n",
      "Milan,Ana\n",
      "McCurdy,Kendra\n",
      "Pitts,Robert\n",
      "Hopkins,Leslie\n",
      "Butler,Paul\n",
      "Barth,Phyllis\n",
      "---85001\n",
      "Cross,David\n",
      "Pritchett,Danny\n",
      "Sistrunk,Lennie\n",
      "Sweet,Jeffery\n",
      "Buckles,Nancy\n",
      "James,Katie\n",
      "Tutor,Anthony\n",
      "Battle,Mark\n",
      "Hiller,Carol\n",
      "Landa,Nancy\n",
      "Marks,Sergio\n",
      "Sprague,Barbara\n",
      "Greenwell,Angela\n",
      "Helms,Sabrina\n",
      "Allen,Sharon\n",
      "Waller,Gregory\n",
      "---85002\n",
      "Whitmore,Alan\n",
      "Chandler,Tara\n",
      "Robinson,Diane\n",
      "Brown,Henry\n",
      "Sisson,Lacey\n",
      "Root,Elfriede\n",
      "Lynch,Barbara\n",
      "Dixon,Jeremy\n",
      "Hampton,David\n",
      "Norman,Elizabeth\n",
      "Granados,Lynnette\n",
      "Sullivan,Martha\n",
      "Novak,Grant\n",
      "Johnson,Katrina\n",
      "McConville,Jennifer\n",
      "Sherer,Rose\n",
      "---85003\n",
      "Jenkins,Thad\n",
      "Rick,Edward\n",
      "Lindsay,Ivy\n",
      "Oneil,Beth\n",
      "Post,Elizabeth\n",
      "Taylor,Maude\n",
      "Smith,Wesley\n",
      "Wolfe,Gilbert\n",
      "Jenkins,Richard\n",
      "Carmichael,David\n",
      "Jaimes,Earl\n",
      "Jennings,Guillermo\n",
      "---85004\n",
      "Morris,Eric\n",
      "Reiser,Hazel\n",
      "Gregg,Alicia\n",
      "Preston,Elizabeth\n",
      "Hass,Julie\n",
      "Gunn,Debra\n",
      "Frye,Terry\n",
      "Reyes,Jack\n",
      "Thomas,Brenda\n",
      "Stowe,Lloyd\n",
      "Vaughn,Tommy\n",
      "Edmond,Barry\n"
     ]
    }
   ],
   "source": [
    "for pc,people in pc_names.take(5):\n",
    "    print(\"---{}\".format(pc))\n",
    "    for surname,name in people:\n",
    "        print(\"{},{}\".format(surname,name))"
   ]
  },
  {
   "cell_type": "markdown",
   "metadata": {},
   "source": [
    "## HDFS files"
   ]
  },
  {
   "cell_type": "code",
   "execution_count": 48,
   "metadata": {},
   "outputs": [
    {
     "data": {
      "text/plain": [
       "['52.186.163.97 - 93 [04/Feb/2014:23:59:55 +0100] \"GET /KBDOC-00141.html HTTP/1.0\" 200 13580 \"http://www.loudacre.com\"  \"Loudacre CSR Browser\"',\n",
       " '52.186.163.97 - 93 [04/Feb/2014:23:59:55 +0100] \"GET /theme.css HTTP/1.0\" 200 18642 \"http://www.loudacre.com\"  \"Loudacre CSR Browser\"',\n",
       " '165.73.165.250 - 130 [04/Feb/2014:23:59:22 +0100] \"GET /KBDOC-00189.html HTTP/1.0\" 200 5182 \"http://www.loudacre.com\"  \"Loudacre CSR Browser\"',\n",
       " '165.73.165.250 - 130 [04/Feb/2014:23:59:22 +0100] \"GET /theme.css HTTP/1.0\" 200 16441 \"http://www.loudacre.com\"  \"Loudacre CSR Browser\"',\n",
       " '230.236.75.86 - 4921 [04/Feb/2014:23:59:17 +0100] \"GET /KBDOC-00002.html HTTP/1.0\" 200 10216 \"http://www.loudacre.com\"  \"Loudacre Mobile Browser Sorrento F00L\"']"
      ]
     },
     "execution_count": 48,
     "metadata": {},
     "output_type": "execute_result"
    }
   ],
   "source": [
    "logs = sc.textFile(\"/tmp/curso/weblogs/2014-02-04.log\")\n",
    "logs.take(5)"
   ]
  },
  {
   "cell_type": "code",
   "execution_count": 50,
   "metadata": {},
   "outputs": [],
   "source": [
    "jpgs = logs.filter(lambda x: \".jpg\" in x)\n",
    "jpgs.saveAsTextFile(\"/tmp/curso/jpgs4\")"
   ]
  },
  {
   "cell_type": "code",
   "execution_count": 55,
   "metadata": {},
   "outputs": [
    {
     "data": {
      "text/plain": [
       "['65.103.192.86 - 88816 [04/Feb/2014:23:58:34 +0100] \"GET /titanic_2400.jpg HTTP/1.0\" 200 2935 \"http://www.loudacre.com\"  \"Loudacre Mobile Browser iFruit 3A\"',\n",
       " '102.100.4.122 - 40439 [04/Feb/2014:23:58:20 +0100] \"GET /ronin_s1.jpg HTTP/1.0\" 200 13346 \"http://www.loudacre.com\"  \"Loudacre Mobile Browser Sorrento F41L\"',\n",
       " '215.166.217.166 - 40984 [04/Feb/2014:23:54:39 +0100] \"GET /sorrento_f21l.jpg HTTP/1.0\" 200 11038 \"http://www.loudacre.com\"  \"Loudacre Mobile Browser Sorrento F11L\"',\n",
       " '79.242.61.21 - 46925 [04/Feb/2014:23:50:52 +0100] \"GET /ifruit_4.jpg HTTP/1.0\" 200 5951 \"http://www.loudacre.com\"  \"Loudacre Mobile Browser MeeToo 2.0\"',\n",
       " '73.233.61.30 - 75640 [04/Feb/2014:23:42:48 +0100] \"GET /ifruit_3.jpg HTTP/1.0\" 200 14506 \"http://www.loudacre.com\"  \"Loudacre Mobile Browser Titanic 2000\"']"
      ]
     },
     "execution_count": 55,
     "metadata": {},
     "output_type": "execute_result"
    }
   ],
   "source": [
    "jpgs.take(5)"
   ]
  },
  {
   "cell_type": "code",
   "execution_count": 79,
   "metadata": {},
   "outputs": [
    {
     "data": {
      "text/plain": [
       "408"
      ]
     },
     "execution_count": 79,
     "metadata": {},
     "output_type": "execute_result"
    }
   ],
   "source": [
    "jpgs_name = jpgs.map(lambda x: x.split(\" \")[6][1:].split(\".\")[0])\n",
    "jpgs_name.count()"
   ]
  },
  {
   "cell_type": "code",
   "execution_count": 77,
   "metadata": {},
   "outputs": [
    {
     "data": {
      "text/plain": [
       "['ifruit_5a',\n",
       " 'ifruit_5',\n",
       " 'ifruit_4a',\n",
       " 'ifruit_4',\n",
       " 'titanic_4000',\n",
       " 'titanic_3000',\n",
       " 'titanic_2500',\n",
       " 'sorrento_f41l',\n",
       " 'sorrento_f40l',\n",
       " 'ronin_s4',\n",
       " 'ronin_s3',\n",
       " 'ronin_s2',\n",
       " 'meetoo_5.1',\n",
       " 'meetoo_5.0']"
      ]
     },
     "execution_count": 77,
     "metadata": {},
     "output_type": "execute_result"
    }
   ],
   "source": [
    "tm = sc.textFile(\"/home/bego/Documents/curso_spark/datasets/targetmodels.txt\").map(lambda x: x.replace(\" \", \"_\").lower())\n",
    "tm_proc = [e[0] for e in tm.zipWithUniqueId().collect()]\n",
    "tm_proc"
   ]
  },
  {
   "cell_type": "code",
   "execution_count": 80,
   "metadata": {},
   "outputs": [
    {
     "data": {
      "text/plain": [
       "104"
      ]
     },
     "execution_count": 80,
     "metadata": {},
     "output_type": "execute_result"
    }
   ],
   "source": [
    "jpgs_tm = jpgs_name.filter(lambda x: x in tm_proc)\n",
    "jpgs_tm.count()"
   ]
  },
  {
   "cell_type": "markdown",
   "metadata": {},
   "source": [
    "## Working with partitions"
   ]
  },
  {
   "cell_type": "code",
   "execution_count": 21,
   "metadata": {},
   "outputs": [
    {
     "name": "stdout",
     "output_type": "stream",
     "text": [
      "['<activations>', '\\t  <activation timestamp=\"1288545628\" type=\"phone\">', '\\t    <account-number>8306</account-number>', '\\t    <device-id>1d2d4f90-0244-4329-a9d2-615db7747930</device-id>', '\\t    <phone-number>4085245772</phone-number>', '\\t    <model>Titanic 1000</model>', '\\t  </activation>', '\\t  \\t\\t  <activation timestamp=\"1288542060\" type=\"phone\">', '\\t    <account-number>63465</account-number>', '\\t    <device-id>7ed8b07f-81dc-4a33-9944-c46acf888c60</device-id>', '\\t    <phone-number>9281057035</phone-number>', '\\t    <model>MeeToo 2.0</model>', '\\t  </activation>', '\\t  \\t\\t  <activation timestamp=\"1288539280\" type=\"phone\">', '\\t    <account-number>8008</account-number>', '\\t    <device-id>00615b91-c997-4038-b70c-e456d7e90e4b</device-id>', '\\t    <phone-number>6260201208</phone-number>', '\\t    <model>MeeToo 1.0</model>', '\\t  </activation>', '\\t  \\t\\t  <activation timestamp=\"1288539231\" type=\"phone\">']\n",
      "b'(61) /tmp/curso/activations/* MapPartitionsRDD[66] at textFile at NativeMethodAccessorImpl.java:0 []\\n |   /tmp/curso/activations/* HadoopRDD[65] at textFile at NativeMethodAccessorImpl.java:0 []'\n"
     ]
    }
   ],
   "source": [
    "# $ hadoop fs -put activations /tmp/curso/activations\n",
    "activations = sc.textFile(\"/tmp/curso/activations/*\")\n",
    "print(activations.take(20))\n",
    "\n",
    "# show the partitioning\n",
    "print(activations.toDebugString())"
   ]
  },
  {
   "cell_type": "code",
   "execution_count": 22,
   "metadata": {},
   "outputs": [],
   "source": [
    "import xml.etree.ElementTree as ElementTree\n",
    "\n",
    "# return an iterator of activation Elements contained in the partition\n",
    "def getactivations(fileiterator):\n",
    "    s = ''\n",
    "    for i in fileiterator: s = s + str(i)\n",
    "    filetree = ElementTree.fromstring(s)\n",
    "    return filetree.getiterator('activation')\n",
    "\n",
    "# get the model name from a device activation record\n",
    "def getmodel(activation):\n",
    "    return activation.find('model').text "
   ]
  },
  {
   "cell_type": "code",
   "execution_count": 23,
   "metadata": {},
   "outputs": [
    {
     "data": {
      "text/plain": [
       "[<Element 'activation' at 0x7faf74398f98>,\n",
       " <Element 'activation' at 0x7faf7436def8>]"
      ]
     },
     "execution_count": 23,
     "metadata": {},
     "output_type": "execute_result"
    }
   ],
   "source": [
    "# parse each partition as a file into an activation XML record\n",
    "activationTrees = activations.mapPartitions(lambda xml: getactivations(xml))\n",
    "activationTrees.take(2)"
   ]
  },
  {
   "cell_type": "code",
   "execution_count": 24,
   "metadata": {},
   "outputs": [
    {
     "name": "stdout",
     "output_type": "stream",
     "text": [
      "['Titanic 1000', 'MeeToo 2.0', 'MeeToo 1.0', 'Sorrento F01L', 'Titanic 1100']\n",
      "b'(61) PythonRDD[70] at RDD at PythonRDD.scala:53 []\\n |   /tmp/curso/activations/* MapPartitionsRDD[66] at textFile at NativeMethodAccessorImpl.java:0 []\\n |   /tmp/curso/activations/* HadoopRDD[65] at textFile at NativeMethodAccessorImpl.java:0 []'\n"
     ]
    }
   ],
   "source": [
    "# map each activation record to a device model name\n",
    "models = activationTrees.map(lambda activation: getmodel(activation))\n",
    "print(models.take(5))\n",
    "\n",
    "# show the partitioning\n",
    "print(models.toDebugString())"
   ]
  },
  {
   "cell_type": "code",
   "execution_count": 25,
   "metadata": {},
   "outputs": [
    {
     "name": "stdout",
     "output_type": "stream",
     "text": [
      "[('iFruit 2', 4061), ('Ronin S1', 4027), ('Titanic 4000', 1378), ('Sorrento F10L', 4633), ('Sorrento F23L', 2676)]\n",
      "b'(61) PythonRDD[77] at RDD at PythonRDD.scala:53 []\\n |   MapPartitionsRDD[74] at mapPartitions at PythonRDD.scala:133 []\\n |   ShuffledRDD[73] at partitionBy at NativeMethodAccessorImpl.java:0 []\\n +-(61) PairwiseRDD[72] at reduceByKey at <ipython-input-25-88e9ab53c366>:2 []\\n    |   PythonRDD[71] at reduceByKey at <ipython-input-25-88e9ab53c366>:2 []\\n    |   /tmp/curso/activations/* MapPartitionsRDD[66] at textFile at NativeMethodAccessorImpl.java:0 []\\n    |   /tmp/curso/activations/* HadoopRDD[65] at textFile at NativeMethodAccessorImpl.java:0 []'\n"
     ]
    }
   ],
   "source": [
    "# count activations by model\n",
    "modelcounts = models.map(lambda model: (model,1)).reduceByKey(lambda v1,v2:v1+v2)\n",
    "print(modelcounts.take(5))\n",
    "\n",
    "# show the partitioning\n",
    "print(modelcounts.toDebugString())"
   ]
  },
  {
   "cell_type": "code",
   "execution_count": 26,
   "metadata": {},
   "outputs": [
    {
     "name": "stdout",
     "output_type": "stream",
     "text": [
      "5301 Titanic 1100\n",
      "5238 Sorrento F00L\n",
      "5232 Titanic 1000\n",
      "5144 iFruit 1\n",
      "5019 MeeToo 1.0\n",
      "4863 Sorrento F01L\n",
      "4633 Sorrento F10L\n",
      "4504 Titanic 2000\n",
      "4159 Titanic 2100\n",
      "4132 Titanic 2200\n"
     ]
    }
   ],
   "source": [
    "# dislay the top 10 models\n",
    "for count, model in modelcounts.map(lambda x: (x[1], x[0])).top(10):\n",
    "    print(count,model)"
   ]
  },
  {
   "cell_type": "markdown",
   "metadata": {},
   "source": [
    "## Using RDD cache"
   ]
  },
  {
   "cell_type": "code",
   "execution_count": 27,
   "metadata": {},
   "outputs": [
    {
     "data": {
      "text/plain": [
       "124799"
      ]
     },
     "execution_count": 27,
     "metadata": {},
     "output_type": "execute_result"
    }
   ],
   "source": [
    "# count number of models\n",
    "models.count()"
   ]
  },
  {
   "cell_type": "code",
   "execution_count": 28,
   "metadata": {},
   "outputs": [
    {
     "data": {
      "text/plain": [
       "PythonRDD[70] at RDD at PythonRDD.scala:53"
      ]
     },
     "execution_count": 28,
     "metadata": {},
     "output_type": "execute_result"
    }
   ],
   "source": [
    "models.cache()"
   ]
  },
  {
   "cell_type": "code",
   "execution_count": 29,
   "metadata": {},
   "outputs": [
    {
     "data": {
      "text/plain": [
       "124799"
      ]
     },
     "execution_count": 29,
     "metadata": {},
     "output_type": "execute_result"
    }
   ],
   "source": [
    "# substantial reduction in time\n",
    "models.count()"
   ]
  },
  {
   "cell_type": "code",
   "execution_count": 30,
   "metadata": {},
   "outputs": [],
   "source": [
    "# spark interface: Storage, Executors"
   ]
  },
  {
   "cell_type": "code",
   "execution_count": 31,
   "metadata": {},
   "outputs": [
    {
     "data": {
      "text/plain": [
       "PythonRDD[70] at RDD at PythonRDD.scala:53"
      ]
     },
     "execution_count": 31,
     "metadata": {},
     "output_type": "execute_result"
    }
   ],
   "source": [
    "models.unpersist()"
   ]
  },
  {
   "cell_type": "code",
   "execution_count": 32,
   "metadata": {},
   "outputs": [
    {
     "data": {
      "text/plain": [
       "PythonRDD[70] at RDD at PythonRDD.scala:53"
      ]
     },
     "execution_count": 32,
     "metadata": {},
     "output_type": "execute_result"
    }
   ],
   "source": [
    "from pyspark import StorageLevel\n",
    "# stores RDD in disk\n",
    "models.persist(StorageLevel.DISK_ONLY)"
   ]
  },
  {
   "cell_type": "code",
   "execution_count": 33,
   "metadata": {},
   "outputs": [
    {
     "data": {
      "text/plain": [
       "124799"
      ]
     },
     "execution_count": 33,
     "metadata": {},
     "output_type": "execute_result"
    }
   ],
   "source": [
    "models.count()"
   ]
  },
  {
   "cell_type": "markdown",
   "metadata": {},
   "source": [
    "## Using checkpoints"
   ]
  },
  {
   "cell_type": "code",
   "execution_count": 34,
   "metadata": {},
   "outputs": [],
   "source": [
    "sc.setCheckpointDir(\"checkpoints\") # to store data in HDFS"
   ]
  },
  {
   "cell_type": "code",
   "execution_count": 39,
   "metadata": {},
   "outputs": [],
   "source": [
    "mydata = sc.parallelize(list(range(1,6)))"
   ]
  },
  {
   "cell_type": "code",
   "execution_count": 41,
   "metadata": {},
   "outputs": [
    {
     "name": "stdout",
     "output_type": "stream",
     "text": [
      "<bound method RDD.count of PythonRDD[1589] at RDD at PythonRDD.scala:53>\n"
     ]
    }
   ],
   "source": [
    "for i in range(400):\n",
    "    mydata = mydata.map(lambda x: x+1) # without checkpoint this produces a StackOverflow\n",
    "    mydata.checkpoint()\n",
    "    mydata.count() # checkpoint does not materialize until an action"
   ]
  },
  {
   "cell_type": "code",
   "execution_count": 43,
   "metadata": {},
   "outputs": [
    {
     "data": {
      "text/plain": [
       "[709, 710, 711, 712, 713]"
      ]
     },
     "execution_count": 43,
     "metadata": {},
     "output_type": "execute_result"
    }
   ],
   "source": [
    "mydata.collect()"
   ]
  },
  {
   "cell_type": "code",
   "execution_count": 44,
   "metadata": {},
   "outputs": [
    {
     "data": {
      "text/plain": [
       "b'(1) PythonRDD[1589] at RDD at PythonRDD.scala:53 []\\n |  ReliableCheckpointRDD[1591] at count at <ipython-input-41-da7224145dd0>:4 []'"
      ]
     },
     "execution_count": 44,
     "metadata": {},
     "output_type": "execute_result"
    }
   ],
   "source": [
    "mydata.toDebugString()"
   ]
  },
  {
   "cell_type": "markdown",
   "metadata": {},
   "source": [
    "## Destroy SC"
   ]
  },
  {
   "cell_type": "code",
   "execution_count": null,
   "metadata": {},
   "outputs": [],
   "source": [
    "# destroy the spark context\n",
    "#  sc.stop()"
   ]
  },
  {
   "cell_type": "markdown",
   "metadata": {},
   "source": [
    "## Accumulators"
   ]
  },
  {
   "cell_type": "code",
   "execution_count": 101,
   "metadata": {},
   "outputs": [],
   "source": [
    "logs = sc.textFile(\"/tmp/curso/weblogs/*\")"
   ]
  },
  {
   "cell_type": "code",
   "execution_count": 103,
   "metadata": {},
   "outputs": [
    {
     "data": {
      "text/plain": [
       "['116.180.70.237 - 128 [15/Sep/2013:23:59:53 +0100] \"GET /KBDOC-00031.html HTTP/1.0\" 200 1388 \"http://www.loudacre.com\"  \"Loudacre CSR Browser\"',\n",
       " '116.180.70.237 - 128 [15/Sep/2013:23:59:53 +0100] \"GET /theme.css HTTP/1.0\" 200 5531 \"http://www.loudacre.com\"  \"Loudacre CSR Browser\"',\n",
       " '218.193.16.244 - 94 [15/Sep/2013:23:58:45 +0100] \"GET /KBDOC-00273.html HTTP/1.0\" 200 5325 \"http://www.loudacre.com\"  \"Loudacre CSR Browser\"',\n",
       " '218.193.16.244 - 94 [15/Sep/2013:23:58:45 +0100] \"GET /theme.css HTTP/1.0\" 200 9463 \"http://www.loudacre.com\"  \"Loudacre CSR Browser\"',\n",
       " '198.122.118.164 - 131 [15/Sep/2013:23:58:02 +0100] \"GET /KBDOC-00117.html HTTP/1.0\" 200 15818 \"http://www.loudacre.com\"  \"Loudacre CSR Browser\"']"
      ]
     },
     "execution_count": 103,
     "metadata": {},
     "output_type": "execute_result"
    }
   ],
   "source": [
    "logs.take(5)"
   ]
  },
  {
   "cell_type": "code",
   "execution_count": 113,
   "metadata": {},
   "outputs": [
    {
     "name": "stdout",
     "output_type": "stream",
     "text": [
      "\n",
      "Total requests:\n",
      "\n",
      ".css --> 182067\n",
      "\n",
      ".html --> 182067\n",
      "\n",
      ".jpg --> 24743\n",
      "\n"
     ]
    }
   ],
   "source": [
    "def count(line):\n",
    "    files = {\"html\":html, \"css\":css, \"jpg\": jpg}\n",
    "    for e in files:\n",
    "        if e in line:\n",
    "            files[e] +=1\n",
    "\n",
    "html = sc.accumulator(0)\n",
    "css = sc.accumulator(0)\n",
    "jpg = sc.accumulator(0)\n",
    "\n",
    "logs.foreach(lambda line: count(line))\n",
    "\n",
    "print(\"\"\"\n",
    "Total requests:\\n\n",
    ".css --> {}\\n\n",
    ".html --> {}\\n\n",
    ".jpg --> {}\"\"\".format(css.value, html.value, jpg.value))"
   ]
  },
  {
   "cell_type": "markdown",
   "metadata": {},
   "source": [
    "## SparkStreaming"
   ]
  },
  {
   "cell_type": "code",
   "execution_count": null,
   "metadata": {},
   "outputs": [],
   "source": [
    "\"\"\"# terminal 1\n",
    "nc -lkv 4444\"\"\""
   ]
  },
  {
   "cell_type": "code",
   "execution_count": 5,
   "metadata": {},
   "outputs": [],
   "source": [
    "\"\"\"# terminal 2\n",
    "pyspark --master local[2]\n",
    "from pyspark.streaming import StreamingContext\n",
    "ssc = StreamingContext(sc,5)\n",
    "ssc.checkpoint(\"/tmp/curso\")\n",
    "mystream = ssc.socketTextStream(\"localhost\", 4444)\n",
    "words = mystream.flatMap(lambda x: x.split(\" \"))\n",
    "wordsCount = words.map(lambda x: (x, 1)).reduceByKey(lambda x,y: x+y)\n",
    "def updateFunc(newValues, lastSum):\n",
    "    if lastSum is None:\n",
    "        lastSum = 0\n",
    "    return sum(newValues, lastSum)\n",
    "wordsCountAccum = wordsCount.updateStateByKey(updateFunc)\n",
    "wordsCountAccum.pprint()\n",
    "ssc.start()\n",
    "ssc.awaitTermination()\n",
    "ssc.stop()\"\"\""
   ]
  },
  {
   "cell_type": "markdown",
   "metadata": {},
   "source": [
    "## Spark SQL"
   ]
  },
  {
   "cell_type": "code",
   "execution_count": 32,
   "metadata": {},
   "outputs": [],
   "source": [
    "from pyspark.sql import SQLContext, Row, DataFrame"
   ]
  },
  {
   "cell_type": "code",
   "execution_count": 21,
   "metadata": {},
   "outputs": [],
   "source": [
    "ssc = SQLContext(sc)"
   ]
  },
  {
   "cell_type": "code",
   "execution_count": 30,
   "metadata": {},
   "outputs": [],
   "source": [
    "zips = ssc.read.load(\"/tmp/curso/zips.json\", format=\"json\")"
   ]
  },
  {
   "cell_type": "code",
   "execution_count": 31,
   "metadata": {},
   "outputs": [
    {
     "name": "stdout",
     "output_type": "stream",
     "text": [
      "+-----+---------------+--------------------+-----+-----+\n",
      "|  _id|           city|                 loc|  pop|state|\n",
      "+-----+---------------+--------------------+-----+-----+\n",
      "|01001|         AGAWAM|[-72.622739, 42.0...|15338|   MA|\n",
      "|01002|        CUSHMAN|[-72.51565, 42.37...|36963|   MA|\n",
      "|01005|          BARRE|[-72.108354, 42.4...| 4546|   MA|\n",
      "|01007|    BELCHERTOWN|[-72.410953, 42.2...|10579|   MA|\n",
      "|01008|      BLANDFORD|[-72.936114, 42.1...| 1240|   MA|\n",
      "|01010|      BRIMFIELD|[-72.188455, 42.1...| 3706|   MA|\n",
      "|01011|        CHESTER|[-72.988761, 42.2...| 1688|   MA|\n",
      "|01012|   CHESTERFIELD|[-72.833309, 42.3...|  177|   MA|\n",
      "|01013|       CHICOPEE|[-72.607962, 42.1...|23396|   MA|\n",
      "|01020|       CHICOPEE|[-72.576142, 42.1...|31495|   MA|\n",
      "|01022|   WESTOVER AFB|[-72.558657, 42.1...| 1764|   MA|\n",
      "|01026|     CUMMINGTON|[-72.905767, 42.4...| 1484|   MA|\n",
      "|01027|      MOUNT TOM|[-72.679921, 42.2...|16864|   MA|\n",
      "|01028|EAST LONGMEADOW|[-72.505565, 42.0...|13367|   MA|\n",
      "|01030|  FEEDING HILLS|[-72.675077, 42.0...|11985|   MA|\n",
      "|01031|   GILBERTVILLE|[-72.198585, 42.3...| 2385|   MA|\n",
      "|01032|         GOSHEN|[-72.844092, 42.4...|  122|   MA|\n",
      "|01033|         GRANBY|[-72.520001, 42.2...| 5526|   MA|\n",
      "|01034|        TOLLAND|[-72.908793, 42.0...| 1652|   MA|\n",
      "|01035|         HADLEY|[-72.571499, 42.3...| 4231|   MA|\n",
      "+-----+---------------+--------------------+-----+-----+\n",
      "only showing top 20 rows\n",
      "\n"
     ]
    }
   ],
   "source": [
    "zips.show()"
   ]
  },
  {
   "cell_type": "code",
   "execution_count": 35,
   "metadata": {},
   "outputs": [
    {
     "name": "stdout",
     "output_type": "stream",
     "text": [
      "7645\n"
     ]
    }
   ],
   "source": [
    "big_zips = zips.filter(zips.pop > 10000).collect()\n",
    "print(len(big_zips))"
   ]
  },
  {
   "cell_type": "code",
   "execution_count": 33,
   "metadata": {},
   "outputs": [],
   "source": [
    "zips.createOrReplaceTempView(\"zips\") # new -registerTempTable deprecated"
   ]
  },
  {
   "cell_type": "code",
   "execution_count": 37,
   "metadata": {},
   "outputs": [
    {
     "name": "stdout",
     "output_type": "stream",
     "text": [
      "7645\n"
     ]
    }
   ],
   "source": [
    "big_zips_sql = ssc.sql(\"SELECT * FROM zips where pop > 10000\").collect()\n",
    "print(len(big_zips_sql))"
   ]
  },
  {
   "cell_type": "code",
   "execution_count": 52,
   "metadata": {},
   "outputs": [
    {
     "name": "stdout",
     "output_type": "stream",
     "text": [
      "+-------+---+\n",
      "|   city| pc|\n",
      "+-------+---+\n",
      "|HOUSTON|101|\n",
      "+-------+---+\n",
      "\n"
     ]
    }
   ],
   "source": [
    "# city with more than 100 pc\n",
    "pc_city = ssc.sql(\"SELECT city, COUNT(_id) as pc FROM zips GROUP BY city HAVING pc > 100\")\n",
    "pc_city.show()"
   ]
  },
  {
   "cell_type": "code",
   "execution_count": null,
   "metadata": {},
   "outputs": [],
   "source": [
    "# population Wisconsin\n",
    "wisconsin = ssc.sql(\"SELECT state, SUM(pop) as pop FROM zips WHERE state = 'WI' GROUP BY state\")\n",
    "wisconsin.show()"
   ]
  },
  {
   "cell_type": "code",
   "execution_count": 72,
   "metadata": {},
   "outputs": [
    {
     "name": "stdout",
     "output_type": "stream",
     "text": [
      "+-----+--------+\n",
      "|state|     pop|\n",
      "+-----+--------+\n",
      "|   CA|29760021|\n",
      "|   NY|17990455|\n",
      "|   TX|16986510|\n",
      "|   FL|12937926|\n",
      "|   PA|11881643|\n",
      "+-----+--------+\n",
      "\n"
     ]
    }
   ],
   "source": [
    "# five more populated states\n",
    "pop_states = ssc.sql(\"SELECT state, SUM(pop) as pop FROM zips GROUP BY state ORDER BY pop DESC LIMIT 5\")\n",
    "pop_states.show()"
   ]
  }
 ],
 "metadata": {
  "kernelspec": {
   "display_name": "Python 3",
   "language": "python",
   "name": "python3"
  },
  "language_info": {
   "codemirror_mode": {
    "name": "ipython",
    "version": 3
   },
   "file_extension": ".py",
   "mimetype": "text/x-python",
   "name": "python",
   "nbconvert_exporter": "python",
   "pygments_lexer": "ipython3",
   "version": "3.7.0"
  }
 },
 "nbformat": 4,
 "nbformat_minor": 4
}
